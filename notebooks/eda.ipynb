{
 "cells": [
  {
   "cell_type": "code",
   "execution_count": null,
   "id": "2edfc983",
   "metadata": {
    "vscode": {
     "languageId": "plaintext"
    }
   },
   "outputs": [],
   "source": [
    "import pandas as pd\n",
    "import numpy as np\n",
    "import matplotlib.pyplot as plt\n",
    "import seaborn as sns    # just for heatmap; plots you can translate to pure matplotlib later\n",
    "%matplotlib inline\n",
    "df = pd.read_csv(\n",
    "    \"../data/processed/AAPL_clean.csv\",\n",
    "    parse_dates=[\"Date\"], index_col=\"Date\"\n",
    ")\n",
    "df.head()\n",
    "df.info()\n",
    "df.describe().T\n",
    "plt.figure(figsize=(12, 5))\n",
    "plt.plot(df.index, df[\"Close\"])\n",
    "plt.title(\"AAPL Closing Price (2010–2025)\")\n",
    "plt.xlabel(\"Date\")\n",
    "plt.ylabel(\"Price (USD)\")\n",
    "plt.show()\n",
    "plt.figure(figsize=(12,5))\n",
    "plt.plot(df[\"Close\"])\n",
    "plt.yscale(\"log\")\n",
    "plt.title(\"Log-Scale AAPL Closing Price\")\n",
    "df[\"Return\"] = df[\"Close\"].pct_change()\n",
    "df = df.dropna(subset=[\"Return\"])\n",
    "plt.figure(figsize=(8,4))\n",
    "plt.hist(df[\"Return\"], bins=100, density=True)\n",
    "plt.title(\"Distribution of Daily Returns\")\n",
    "plt.xlabel(\"Daily Return\")\n",
    "df[\"Volatility_30d\"] = df[\"Return\"].rolling(window=30).std() * np.sqrt(252)\n",
    "plt.figure(figsize=(12,5))\n",
    "plt.plot(df[\"Volatility_30d\"])\n",
    "plt.title(\"30-Day Annualized Volatility\")\n",
    "df[\"SMA_50\"] = df[\"Close\"].rolling(50).mean()\n",
    "df[\"SMA_200\"] = df[\"Close\"].rolling(200).mean()\n",
    "plt.figure(figsize=(12,5))\n",
    "plt.plot(df[\"Close\"], label=\"Close\")\n",
    "plt.plot(df[\"SMA_50\"], label=\"50-day SMA\")\n",
    "plt.plot(df[\"SMA_200\"], label=\"200-day SMA\")\n",
    "plt.legend()\n",
    "plt.title(\"Moving Averages vs. Close\")\n",
    "from pandas.plotting import autocorrelation_plot\n",
    "plt.figure(figsize=(8,4))\n",
    "autocorrelation_plot(df[\"Return\"])\n",
    "plt.title(\"Autocorrelation of Daily Returns\")\n",
    "feat_df = df[[\"Close\", \"Return\", \"Volatility_30d\", \"SMA_50\", \"SMA_200\"]].dropna()\n",
    "corr = feat_df.corr()\n",
    "plt.figure(figsize=(6,5))\n",
    "sns.heatmap(corr, annot=True, fmt=\".2f\", cmap=\"coolwarm\")\n",
    "plt.title(\"Feature Correlation Matrix\")\n"
   ]
  }
 ],
 "metadata": {
  "language_info": {
   "name": "python"
  }
 },
 "nbformat": 4,
 "nbformat_minor": 5
}
